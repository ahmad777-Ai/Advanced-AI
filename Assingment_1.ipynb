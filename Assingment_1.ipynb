{
  "nbformat": 4,
  "nbformat_minor": 0,
  "metadata": {
    "colab": {
      "provenance": [],
      "include_colab_link": true
    },
    "kernelspec": {
      "name": "python3",
      "display_name": "Python 3"
    }
  },
  "cells": [
    {
      "cell_type": "markdown",
      "metadata": {
        "id": "view-in-github",
        "colab_type": "text"
      },
      "source": [
        "<a href=\"https://colab.research.google.com/github/ahmad777-Ai/Advanced-AI/blob/main/Assingment_1.ipynb\" target=\"_parent\"><img src=\"https://colab.research.google.com/assets/colab-badge.svg\" alt=\"Open In Colab\"/></a>"
      ]
    },
    {
      "cell_type": "markdown",
      "source": [
        "NAME:Ahmad thari al shawawreh\n",
        "\n",
        "ID: 202230589"
      ],
      "metadata": {
        "id": "oYUHtTCKIOqM"
      }
    },
    {
      "cell_type": "markdown",
      "metadata": {
        "id": "uathVY58ZRuH"
      },
      "source": [
        "<center><img src=\"https://drive.google.com/uc?export=view&id=16HdIxB0tU-yjDTilrPF7BG71MyV2H3qQ\" alt=\"PSUT\"  width=\"180px\">  \n",
        "<p>\n",
        "Faculty of Information Technology\n",
        " <br>\n",
        "Computer Science/AI <br>\n",
        "Data Analysis and Engineering  <br>\n",
        "Assignment #1 – Python Review\n",
        "</p></center>\n",
        "\n",
        "\n",
        "<!-- **Title**:  *Review of Python*  -->\n",
        "<hr>\n",
        "<h4><b>Grading Criteria</b></h4>\n",
        "\n",
        "<table border>\n",
        "<tr>\n",
        "<td> <b>Exercise</b></td>\n",
        "<td> <b>Ex.1</b></td>\n",
        "<td> <b>Ex.2</b></td>\n",
        "<td> <b>Ex.3</b></td>\n",
        "</tr>\n",
        "\n",
        "<tr>\n",
        "<td> <b>Marks</b></td>\n",
        "<td> /3</td>\n",
        "<td> /3</td>\n",
        "<td> /4</td>\n",
        "\n",
        "</tr>\n",
        "<tr>\n",
        "<td> <b>Total</b></td>\n",
        "<th colspan=6> /10</th>\n",
        "</tr>\n",
        "</table>\n",
        "\n",
        "<h4><b>Lab Objectives</b></h4>\n",
        "<ul>\n",
        "<li> To familiarize students with Jupyter Notebook.\n",
        "<li> To familiarize students with Google Colab.\n",
        "<li> Revise the basics of Python.\n",
        "<li> Revise the main data structure.\n",
        "</ul>\n",
        "\n",
        "<h4><b>Lab Instructions</b></h4>\n",
        "<ul>\n",
        "<li> Create a new folder on desktop and name it by your “ID-FirstName-LastName-LabX”\n",
        "<li> Create a new folder on Google drive and name it by your “ID-FirstName-LastName-DE-Lab” and inside this folder create a new folder for each lab.\n",
        "<li> You must upload your solutions to e-learning as follows:\n",
        "<ol>\n",
        "<li> All your files as \".ipynb\". </li>\n",
        "<li> All your files as \".pdf\". </li>\n",
        "<li> A sharing link of the google drive folder. </li>\n",
        "</ol>\n",
        "<li> <b>Do not</b> compress your solutions before upload it to e-learning. </li>\n",
        "</ul>\n",
        "\n"
      ]
    },
    {
      "cell_type": "markdown",
      "source": [
        "NAME:Ahmad thari al shawawreh\n",
        "\n",
        "ID: 202230589"
      ],
      "metadata": {
        "id": "L0LGFpbGIeF5"
      }
    },
    {
      "cell_type": "markdown",
      "metadata": {
        "id": "UGUVe4VJZxbN"
      },
      "source": [
        "##Exercise 1:\n",
        "<h5> <u> Exercise Objectives: </u></h5>\n",
        "<ul>\n",
        "<li>Using Python libraries. </li>\n",
        "<li>Using input/output statement. </li>\n",
        "<li>Using math library. </li>\n",
        "</ul>\n",
        "\n",
        "<h5> <u> Problem Description: </u></h5>\n",
        "<ul>\n",
        "<li>Let the user enters two float values (v1,v2). </li>\n",
        "<li>Print the values as in the example. </li>\n",
        "<li>You are supposed to use the predefined math functions to compute the following:\n",
        "<ol>\n",
        "<li> The ceil and floor of the values.</li>\n",
        "<li> The remainder when v1 is divided by v2.</li>\n",
        "<li> The square root of v2. </li>\n",
        "</ol>\n",
        " </li>\n",
        "</ul>\n",
        "\n",
        "<h5> <u> Sample Output: </u></h5>\n",
        "\n",
        "![image.png](data:image/png;base64,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)\n"
      ]
    },
    {
      "cell_type": "code",
      "metadata": {
        "id": "iJxW5M0tZPhy",
        "colab": {
          "base_uri": "https://localhost:8080/",
          "height": 54
        },
        "outputId": "74a2a933-7896-440b-ecf2-1068547d6dda"
      },
      "source": [
        "\"\"\"\n",
        "Implement the solution of the first exercise here\n",
        "\n",
        "Input:\n",
        "Three float values from the user\n",
        "\n",
        "Output:\n",
        "A set of mathematical operations on the three values.\n",
        "\n",
        "HINT:: You are supposed to use \"input\" function to read data from users\n",
        "\n",
        "\"\"\"\n"
      ],
      "execution_count": 30,
      "outputs": [
        {
          "output_type": "execute_result",
          "data": {
            "text/plain": [
              "'\\nImplement the solution of the first exercise here\\n\\nInput:\\nThree float values from the user\\n\\nOutput:\\nA set of mathematical operations on the three values.\\n\\nHINT:: You are supposed to use \"input\" function to read data from users\\n\\n'"
            ],
            "application/vnd.google.colaboratory.intrinsic+json": {
              "type": "string"
            }
          },
          "metadata": {},
          "execution_count": 30
        }
      ]
    },
    {
      "cell_type": "code",
      "source": [
        "v1= float(input(\"Enter a float number: \"))\n",
        "v2= float(input(\"Enter a float number: \"))\n",
        "v3= float(input(\"Enter a float number: \"))"
      ],
      "metadata": {
        "colab": {
          "base_uri": "https://localhost:8080/"
        },
        "id": "2KNoWae8lHiC",
        "outputId": "0bdcf937-89f8-4100-b1cb-16db8f7a297a"
      },
      "execution_count": 31,
      "outputs": [
        {
          "name": "stdout",
          "output_type": "stream",
          "text": [
            "Enter a float number: 40.6\n",
            "Enter a float number: 36.1\n",
            "Enter a float number: 27.4\n"
          ]
        }
      ]
    },
    {
      "cell_type": "code",
      "source": [
        "import math"
      ],
      "metadata": {
        "id": "VzX5eQSvlO34"
      },
      "execution_count": 32,
      "outputs": []
    },
    {
      "cell_type": "code",
      "source": [
        "math.ceil(v1)"
      ],
      "metadata": {
        "colab": {
          "base_uri": "https://localhost:8080/"
        },
        "id": "3wkULjOwlSKN",
        "outputId": "2ee31a79-d62d-40ec-ed47-d421f9a37802"
      },
      "execution_count": 33,
      "outputs": [
        {
          "output_type": "execute_result",
          "data": {
            "text/plain": [
              "41"
            ]
          },
          "metadata": {},
          "execution_count": 33
        }
      ]
    },
    {
      "cell_type": "code",
      "source": [
        "math.floor(v1)"
      ],
      "metadata": {
        "colab": {
          "base_uri": "https://localhost:8080/"
        },
        "id": "8tPyfjCmlWeS",
        "outputId": "f1d0b0f0-b03b-416b-fab0-b50a87ec727c"
      },
      "execution_count": 34,
      "outputs": [
        {
          "output_type": "execute_result",
          "data": {
            "text/plain": [
              "40"
            ]
          },
          "metadata": {},
          "execution_count": 34
        }
      ]
    },
    {
      "cell_type": "code",
      "source": [
        "math.ceil(v2)"
      ],
      "metadata": {
        "colab": {
          "base_uri": "https://localhost:8080/"
        },
        "id": "YQyS36kxlchL",
        "outputId": "9b2ff4da-f2ba-47ec-c990-ff065ec846d6"
      },
      "execution_count": 35,
      "outputs": [
        {
          "output_type": "execute_result",
          "data": {
            "text/plain": [
              "37"
            ]
          },
          "metadata": {},
          "execution_count": 35
        }
      ]
    },
    {
      "cell_type": "code",
      "source": [
        "math.floor(v2)"
      ],
      "metadata": {
        "colab": {
          "base_uri": "https://localhost:8080/"
        },
        "id": "B6ICpkMqlfNW",
        "outputId": "8cbe801b-e114-45de-d5f6-1f1b2d347bb0"
      },
      "execution_count": 36,
      "outputs": [
        {
          "output_type": "execute_result",
          "data": {
            "text/plain": [
              "36"
            ]
          },
          "metadata": {},
          "execution_count": 36
        }
      ]
    },
    {
      "cell_type": "code",
      "source": [
        "math.ceil(v3)"
      ],
      "metadata": {
        "colab": {
          "base_uri": "https://localhost:8080/"
        },
        "id": "NqHbsKX_lgHg",
        "outputId": "d3d977f9-387e-4226-e561-2e2e841196bc"
      },
      "execution_count": 37,
      "outputs": [
        {
          "output_type": "execute_result",
          "data": {
            "text/plain": [
              "28"
            ]
          },
          "metadata": {},
          "execution_count": 37
        }
      ]
    },
    {
      "cell_type": "code",
      "source": [
        "math.floor(v3)"
      ],
      "metadata": {
        "colab": {
          "base_uri": "https://localhost:8080/"
        },
        "id": "ad4eQWQslkCH",
        "outputId": "dc533988-d64c-4334-b377-7d7a4ff91921"
      },
      "execution_count": 38,
      "outputs": [
        {
          "output_type": "execute_result",
          "data": {
            "text/plain": [
              "27"
            ]
          },
          "metadata": {},
          "execution_count": 38
        }
      ]
    },
    {
      "cell_type": "code",
      "source": [
        "remainder = v1 % v2\n",
        "remainder"
      ],
      "metadata": {
        "colab": {
          "base_uri": "https://localhost:8080/"
        },
        "id": "UDAQbD2glmg0",
        "outputId": "0779714d-dd87-4cb6-f6df-e8e9c4fef992"
      },
      "execution_count": 39,
      "outputs": [
        {
          "output_type": "execute_result",
          "data": {
            "text/plain": [
              "4.5"
            ]
          },
          "metadata": {},
          "execution_count": 39
        }
      ]
    },
    {
      "cell_type": "code",
      "source": [
        "remainder = v2 % v3\n",
        "remainder"
      ],
      "metadata": {
        "colab": {
          "base_uri": "https://localhost:8080/"
        },
        "id": "3dhENAcDlqsi",
        "outputId": "1c828760-fda9-4da2-e163-d779a7999760"
      },
      "execution_count": 40,
      "outputs": [
        {
          "output_type": "execute_result",
          "data": {
            "text/plain": [
              "8.700000000000003"
            ]
          },
          "metadata": {},
          "execution_count": 40
        }
      ]
    },
    {
      "cell_type": "code",
      "source": [
        "print(math.sqrt(v2))"
      ],
      "metadata": {
        "colab": {
          "base_uri": "https://localhost:8080/"
        },
        "id": "YKx-DfwmlrhT",
        "outputId": "dc501dba-febb-416c-c4be-7467ca4eef23"
      },
      "execution_count": 41,
      "outputs": [
        {
          "output_type": "stream",
          "name": "stdout",
          "text": [
            "6.008327554319921\n"
          ]
        }
      ]
    },
    {
      "cell_type": "code",
      "source": [
        "print(math.sqrt(v1))"
      ],
      "metadata": {
        "colab": {
          "base_uri": "https://localhost:8080/"
        },
        "id": "YFugCcIMluEr",
        "outputId": "5faaa6c0-ca8d-47d5-b6d8-aaf1be9aa284"
      },
      "execution_count": 42,
      "outputs": [
        {
          "output_type": "stream",
          "name": "stdout",
          "text": [
            "6.371812928829597\n"
          ]
        }
      ]
    },
    {
      "cell_type": "markdown",
      "metadata": {
        "id": "9UfvIgD0dOy6"
      },
      "source": [
        "##Exercise 2:\n",
        "<h5> <u> Exercise Objectives: </u></h5>\n",
        "<ul>\n",
        "<li>Using Python libraries. </li>\n",
        "<li>Using numpy library. </li>\n",
        "<li>Revise dictionay. </li>\n",
        "</ul>\n",
        "\n",
        "<h5> <u> Problem Description: </u></h5>\n",
        "<ul>\n",
        "<li >Define the employee dictionary (empDict) of the following data:\n",
        "\n",
        "<table border>\n",
        "<tr>\n",
        "<th> ID </th>\n",
        "<th> Name </th>\n",
        "<th> Department </th>\n",
        "<th> Salary </th>\n",
        "</tr>\n",
        "<tr>\n",
        "<td> 2561 </td>\n",
        "<td> Emp1 </td>\n",
        "<td> CS </td>\n",
        "<td> 600 </td>\n",
        "</tr>\n",
        "<tr>\n",
        "<td> 7894 </td>\n",
        "<td> Emp2 </td>\n",
        "<td> Eng </td>\n",
        "<td> 750 </td>\n",
        "</tr>\n",
        "<tr>\n",
        "<td> 1254 </td>\n",
        "<td> EMp3 </td>\n",
        "<td> Qua </td>\n",
        "<td> 680 </td>\n",
        "</tr>\n",
        "<tr>\n",
        "<td> 7744 </td>\n",
        "<td> Emp4 </td>\n",
        "<td> Eng </td>\n",
        "<td> 1520 </td>\n",
        "</tr>\n",
        "</table>  </li>\n",
        "\n",
        "**Hint: You can declare each employee record as a separate dictionary then combine all these dictionaries together in one dictionary called empDict.**\n",
        "\n",
        "<li> Print the number of elements in empDict.</li>\n",
        "<li> Add a new key (Gender) to empDict (Gender=['F','M','M','F']).</li>\n",
        "<li> Print the keys of this dictionary </li>\n",
        "<li> Print the department of employee \"Emp4\" </li>\n",
        "<li> Change the department of student \"Emp4\" to \"SWE\" </li>\n",
        "<li> Print the department of employee \"Emp4\" </li>\n",
        "</ul>\n",
        "\n",
        "<h5> <u> Sample Output: </u></h5>\n",
        "\n",
        "\n",
        "![image.png](data:image/png;base64,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)"
      ]
    },
    {
      "cell_type": "code",
      "metadata": {
        "id": "C6MjJoGrgcqd",
        "colab": {
          "base_uri": "https://localhost:8080/"
        },
        "outputId": "9c055844-65a8-4880-ec39-5dbd9e28e17f"
      },
      "source": [
        "import numpy as np\n",
        "\n",
        "employee_ids = np.array([2561, 7894, 1254, 7744])\n",
        "employee_names = np.array([\"Emp1\", \"Emp2\", \"Emp3\", \"Emp4\"])\n",
        "employee_departments = np.array([\"CS\", \"Eng\", \"Qua\", \"Eng\"])\n",
        "employee_salaries = np.array([600, 750, 680, 1520])\n",
        "\n",
        "empdict = np.column_stack((employee_ids, employee_names, employee_departments, employee_salaries))\n",
        "\n",
        "print(\"ID    Name   Department  Salary\")\n",
        "print(\"=================================\")\n",
        "for row in empdict:\n",
        "    print(f\"{row[0]:<5} {row[1]:<6} {row[2]:<10} {row[3]}\")"
      ],
      "execution_count": 43,
      "outputs": [
        {
          "output_type": "stream",
          "name": "stdout",
          "text": [
            "ID    Name   Department  Salary\n",
            "=================================\n",
            "2561  Emp1   CS         600\n",
            "7894  Emp2   Eng        750\n",
            "1254  Emp3   Qua        680\n",
            "7744  Emp4   Eng        1520\n"
          ]
        }
      ]
    },
    {
      "cell_type": "code",
      "source": [
        "elements_num = empdict.size\n",
        "elements_num"
      ],
      "metadata": {
        "colab": {
          "base_uri": "https://localhost:8080/"
        },
        "id": "hZ3_vPgzusiK",
        "outputId": "243caeeb-75b5-42b2-95d1-226ad6091c43"
      },
      "execution_count": 44,
      "outputs": [
        {
          "output_type": "execute_result",
          "data": {
            "text/plain": [
              "16"
            ]
          },
          "metadata": {},
          "execution_count": 44
        }
      ]
    },
    {
      "cell_type": "code",
      "source": [
        "gender = np.array(['F', 'M', 'M', 'F'], dtype=object).reshape(-1, 1)\n",
        "data_gender = np.hstack((empdict, gender))\n",
        "\n",
        "print(data_gender)"
      ],
      "metadata": {
        "colab": {
          "base_uri": "https://localhost:8080/"
        },
        "id": "chxbUDxsvMt4",
        "outputId": "ab54afdf-9934-485d-b7a3-0100ec5400da"
      },
      "execution_count": 45,
      "outputs": [
        {
          "output_type": "stream",
          "name": "stdout",
          "text": [
            "[['2561' 'Emp1' 'CS' '600' 'F']\n",
            " ['7894' 'Emp2' 'Eng' '750' 'M']\n",
            " ['1254' 'Emp3' 'Qua' '680' 'M']\n",
            " ['7744' 'Emp4' 'Eng' '1520' 'F']]\n"
          ]
        }
      ]
    },
    {
      "cell_type": "code",
      "source": [
        "keys= ['id' , 'name' , 'department' , 'salary' , 'gender']\n",
        "print(\"keys:\" , keys)"
      ],
      "metadata": {
        "colab": {
          "base_uri": "https://localhost:8080/"
        },
        "id": "moVS5vRkvxdy",
        "outputId": "97674be2-55cb-4030-ce2b-d1b879fc7c7c"
      },
      "execution_count": 46,
      "outputs": [
        {
          "output_type": "stream",
          "name": "stdout",
          "text": [
            "keys: ['id', 'name', 'department', 'salary', 'gender']\n"
          ]
        }
      ]
    },
    {
      "cell_type": "code",
      "source": [
        "emp_index = np.where(employee_names == \"Emp4\")[0][0]\n",
        "emp_department = employee_departments[emp_index]\n",
        "\n",
        "print(\"Department of Emp4:\", emp_department)"
      ],
      "metadata": {
        "colab": {
          "base_uri": "https://localhost:8080/"
        },
        "id": "QAwp5LomxYaf",
        "outputId": "21ff324d-8456-470d-93ac-ee09edddcb71"
      },
      "execution_count": 47,
      "outputs": [
        {
          "output_type": "stream",
          "name": "stdout",
          "text": [
            "Department of Emp4: Eng\n"
          ]
        }
      ]
    },
    {
      "cell_type": "code",
      "source": [
        "employee_genders = np.array(['F' , 'M' , 'M' , 'F'])\n",
        "emp_index = np.where(employee_names == \"Emp4\")[0][0]\n",
        "employee_departments[emp_index] = \"SWE\"\n",
        "\n",
        "print(\"Updated Employee Data:\")\n",
        "print(\"ID    Name   Department  Salary  Gender\")\n",
        "print(\"========================================\")\n",
        "for i in range(len(employee_ids)):\n",
        "    print(f\"{employee_ids[i]:<5} {employee_names[i]:<6} {employee_departments[i]:<10} {employee_salaries[i]:<7} {employee_genders[i]}\")"
      ],
      "metadata": {
        "colab": {
          "base_uri": "https://localhost:8080/"
        },
        "id": "EJZqgyUG2war",
        "outputId": "03a1df53-2a85-496d-d84b-c3ac7ef69fea"
      },
      "execution_count": 48,
      "outputs": [
        {
          "output_type": "stream",
          "name": "stdout",
          "text": [
            "Updated Employee Data:\n",
            "ID    Name   Department  Salary  Gender\n",
            "========================================\n",
            "2561  Emp1   CS         600     F\n",
            "7894  Emp2   Eng        750     M\n",
            "1254  Emp3   Qua        680     M\n",
            "7744  Emp4   SWE        1520    F\n"
          ]
        }
      ]
    },
    {
      "cell_type": "code",
      "source": [
        "emp_index = np.where(employee_names == \"Emp4\")[0][0]\n",
        "emp_department = employee_departments[emp_index]\n",
        "\n",
        "print(\"Department of Emp4:\", emp_department)"
      ],
      "metadata": {
        "colab": {
          "base_uri": "https://localhost:8080/"
        },
        "id": "x2MKjDeL3wJ1",
        "outputId": "16ca543b-76ae-442d-aba3-475344b0fa07"
      },
      "execution_count": 49,
      "outputs": [
        {
          "output_type": "stream",
          "name": "stdout",
          "text": [
            "Department of Emp4: SWE\n"
          ]
        }
      ]
    },
    {
      "cell_type": "markdown",
      "metadata": {
        "id": "K85aPKAeajen"
      },
      "source": [
        "<h3><b>Exercise 3:</b></h3>\n",
        "<h5> <u> Exercise Objectives: </u></h5>\n",
        "<ul>\n",
        "<li>Using Python libraries. </li>\n",
        "<li>Using pandas library. </li>\n",
        "<li>Revise dataframe and dictionay. </li>\n",
        "<li>Revise function. </li>\n",
        "</ul>\n",
        "\n",
        "<h5> <u> Problem Description: </u></h5>\n",
        "\n",
        "* Define the `employee` Dataframe using the dictionary your defined in Exercies2:\n",
        "\n",
        "* Define a function called `printDF()` that receives a dataframe and prints the shape, the columns of the dataframe, and the dataframe.\n",
        "* Call `printDF()`.\n",
        "*  Define a function called `printCol()` that receives a dataframe and a column lable and prints the data in the given column.\n",
        "* Call `printCol()`.\n",
        "* Print the third row in `employee`Dataframe.\n",
        "*  Modify the name of the first employee to your name.\n",
        "*  Print the second row in `employee` Dataframe.\n",
        "*  Print the average, minimum, and maximum of salary in `employee` Dataframe.\n",
        "\n",
        "<h5> <u> Sample Output: </u></h5>\n",
        "\n",
        "\n",
        "![image.png](data:image/png;base64,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)"
      ]
    },
    {
      "cell_type": "code",
      "source": [
        "import pandas as pd"
      ],
      "metadata": {
        "id": "GiOBkwEkm-8z"
      },
      "execution_count": 50,
      "outputs": []
    },
    {
      "cell_type": "code",
      "source": [
        "employee= [\n",
        "    {\"ID\": 2561, \"Name\": \"Emp1\", \"Department\": \"CS\", \"Salary\": 600 ,\"Gender\":\"F\"},\n",
        "    {\"ID\": 7894, \"Name\": \"Emp2\", \"Department\": \"Eng\", \"Salary\": 750 , \"Gender\":\"M\"},\n",
        "    {\"ID\": 1254, \"Name\": \"Emp3\", \"Department\": \"Qua\", \"Salary\": 680, \"Gender\":\"M\"},\n",
        "    {\"ID\": 7744, \"Name\": \"Emp4\", \"Department\": \"Eng\", \"Salary\": 1520 , \"Gender\":\"F\"}\n",
        "]\n",
        "\n",
        "\n",
        "df = pd.DataFrame(employee)\n",
        "df"
      ],
      "metadata": {
        "id": "m6-TEE-Ts3rC",
        "colab": {
          "base_uri": "https://localhost:8080/",
          "height": 175
        },
        "outputId": "03091dac-337e-4c7d-d50a-fd1ea45e9bbf"
      },
      "execution_count": 51,
      "outputs": [
        {
          "output_type": "execute_result",
          "data": {
            "text/plain": [
              "     ID  Name Department  Salary Gender\n",
              "0  2561  Emp1         CS     600      F\n",
              "1  7894  Emp2        Eng     750      M\n",
              "2  1254  Emp3        Qua     680      M\n",
              "3  7744  Emp4        Eng    1520      F"
            ],
            "text/html": [
              "\n",
              "  <div id=\"df-b0921d07-cb3c-425d-aa18-e269fcd1b3e5\" class=\"colab-df-container\">\n",
              "    <div>\n",
              "<style scoped>\n",
              "    .dataframe tbody tr th:only-of-type {\n",
              "        vertical-align: middle;\n",
              "    }\n",
              "\n",
              "    .dataframe tbody tr th {\n",
              "        vertical-align: top;\n",
              "    }\n",
              "\n",
              "    .dataframe thead th {\n",
              "        text-align: right;\n",
              "    }\n",
              "</style>\n",
              "<table border=\"1\" class=\"dataframe\">\n",
              "  <thead>\n",
              "    <tr style=\"text-align: right;\">\n",
              "      <th></th>\n",
              "      <th>ID</th>\n",
              "      <th>Name</th>\n",
              "      <th>Department</th>\n",
              "      <th>Salary</th>\n",
              "      <th>Gender</th>\n",
              "    </tr>\n",
              "  </thead>\n",
              "  <tbody>\n",
              "    <tr>\n",
              "      <th>0</th>\n",
              "      <td>2561</td>\n",
              "      <td>Emp1</td>\n",
              "      <td>CS</td>\n",
              "      <td>600</td>\n",
              "      <td>F</td>\n",
              "    </tr>\n",
              "    <tr>\n",
              "      <th>1</th>\n",
              "      <td>7894</td>\n",
              "      <td>Emp2</td>\n",
              "      <td>Eng</td>\n",
              "      <td>750</td>\n",
              "      <td>M</td>\n",
              "    </tr>\n",
              "    <tr>\n",
              "      <th>2</th>\n",
              "      <td>1254</td>\n",
              "      <td>Emp3</td>\n",
              "      <td>Qua</td>\n",
              "      <td>680</td>\n",
              "      <td>M</td>\n",
              "    </tr>\n",
              "    <tr>\n",
              "      <th>3</th>\n",
              "      <td>7744</td>\n",
              "      <td>Emp4</td>\n",
              "      <td>Eng</td>\n",
              "      <td>1520</td>\n",
              "      <td>F</td>\n",
              "    </tr>\n",
              "  </tbody>\n",
              "</table>\n",
              "</div>\n",
              "    <div class=\"colab-df-buttons\">\n",
              "\n",
              "  <div class=\"colab-df-container\">\n",
              "    <button class=\"colab-df-convert\" onclick=\"convertToInteractive('df-b0921d07-cb3c-425d-aa18-e269fcd1b3e5')\"\n",
              "            title=\"Convert this dataframe to an interactive table.\"\n",
              "            style=\"display:none;\">\n",
              "\n",
              "  <svg xmlns=\"http://www.w3.org/2000/svg\" height=\"24px\" viewBox=\"0 -960 960 960\">\n",
              "    <path d=\"M120-120v-720h720v720H120Zm60-500h600v-160H180v160Zm220 220h160v-160H400v160Zm0 220h160v-160H400v160ZM180-400h160v-160H180v160Zm440 0h160v-160H620v160ZM180-180h160v-160H180v160Zm440 0h160v-160H620v160Z\"/>\n",
              "  </svg>\n",
              "    </button>\n",
              "\n",
              "  <style>\n",
              "    .colab-df-container {\n",
              "      display:flex;\n",
              "      gap: 12px;\n",
              "    }\n",
              "\n",
              "    .colab-df-convert {\n",
              "      background-color: #E8F0FE;\n",
              "      border: none;\n",
              "      border-radius: 50%;\n",
              "      cursor: pointer;\n",
              "      display: none;\n",
              "      fill: #1967D2;\n",
              "      height: 32px;\n",
              "      padding: 0 0 0 0;\n",
              "      width: 32px;\n",
              "    }\n",
              "\n",
              "    .colab-df-convert:hover {\n",
              "      background-color: #E2EBFA;\n",
              "      box-shadow: 0px 1px 2px rgba(60, 64, 67, 0.3), 0px 1px 3px 1px rgba(60, 64, 67, 0.15);\n",
              "      fill: #174EA6;\n",
              "    }\n",
              "\n",
              "    .colab-df-buttons div {\n",
              "      margin-bottom: 4px;\n",
              "    }\n",
              "\n",
              "    [theme=dark] .colab-df-convert {\n",
              "      background-color: #3B4455;\n",
              "      fill: #D2E3FC;\n",
              "    }\n",
              "\n",
              "    [theme=dark] .colab-df-convert:hover {\n",
              "      background-color: #434B5C;\n",
              "      box-shadow: 0px 1px 3px 1px rgba(0, 0, 0, 0.15);\n",
              "      filter: drop-shadow(0px 1px 2px rgba(0, 0, 0, 0.3));\n",
              "      fill: #FFFFFF;\n",
              "    }\n",
              "  </style>\n",
              "\n",
              "    <script>\n",
              "      const buttonEl =\n",
              "        document.querySelector('#df-b0921d07-cb3c-425d-aa18-e269fcd1b3e5 button.colab-df-convert');\n",
              "      buttonEl.style.display =\n",
              "        google.colab.kernel.accessAllowed ? 'block' : 'none';\n",
              "\n",
              "      async function convertToInteractive(key) {\n",
              "        const element = document.querySelector('#df-b0921d07-cb3c-425d-aa18-e269fcd1b3e5');\n",
              "        const dataTable =\n",
              "          await google.colab.kernel.invokeFunction('convertToInteractive',\n",
              "                                                    [key], {});\n",
              "        if (!dataTable) return;\n",
              "\n",
              "        const docLinkHtml = 'Like what you see? Visit the ' +\n",
              "          '<a target=\"_blank\" href=https://colab.research.google.com/notebooks/data_table.ipynb>data table notebook</a>'\n",
              "          + ' to learn more about interactive tables.';\n",
              "        element.innerHTML = '';\n",
              "        dataTable['output_type'] = 'display_data';\n",
              "        await google.colab.output.renderOutput(dataTable, element);\n",
              "        const docLink = document.createElement('div');\n",
              "        docLink.innerHTML = docLinkHtml;\n",
              "        element.appendChild(docLink);\n",
              "      }\n",
              "    </script>\n",
              "  </div>\n",
              "\n",
              "\n",
              "<div id=\"df-e5171553-cf21-4f41-98b0-3f2f7379c437\">\n",
              "  <button class=\"colab-df-quickchart\" onclick=\"quickchart('df-e5171553-cf21-4f41-98b0-3f2f7379c437')\"\n",
              "            title=\"Suggest charts\"\n",
              "            style=\"display:none;\">\n",
              "\n",
              "<svg xmlns=\"http://www.w3.org/2000/svg\" height=\"24px\"viewBox=\"0 0 24 24\"\n",
              "     width=\"24px\">\n",
              "    <g>\n",
              "        <path d=\"M19 3H5c-1.1 0-2 .9-2 2v14c0 1.1.9 2 2 2h14c1.1 0 2-.9 2-2V5c0-1.1-.9-2-2-2zM9 17H7v-7h2v7zm4 0h-2V7h2v10zm4 0h-2v-4h2v4z\"/>\n",
              "    </g>\n",
              "</svg>\n",
              "  </button>\n",
              "\n",
              "<style>\n",
              "  .colab-df-quickchart {\n",
              "      --bg-color: #E8F0FE;\n",
              "      --fill-color: #1967D2;\n",
              "      --hover-bg-color: #E2EBFA;\n",
              "      --hover-fill-color: #174EA6;\n",
              "      --disabled-fill-color: #AAA;\n",
              "      --disabled-bg-color: #DDD;\n",
              "  }\n",
              "\n",
              "  [theme=dark] .colab-df-quickchart {\n",
              "      --bg-color: #3B4455;\n",
              "      --fill-color: #D2E3FC;\n",
              "      --hover-bg-color: #434B5C;\n",
              "      --hover-fill-color: #FFFFFF;\n",
              "      --disabled-bg-color: #3B4455;\n",
              "      --disabled-fill-color: #666;\n",
              "  }\n",
              "\n",
              "  .colab-df-quickchart {\n",
              "    background-color: var(--bg-color);\n",
              "    border: none;\n",
              "    border-radius: 50%;\n",
              "    cursor: pointer;\n",
              "    display: none;\n",
              "    fill: var(--fill-color);\n",
              "    height: 32px;\n",
              "    padding: 0;\n",
              "    width: 32px;\n",
              "  }\n",
              "\n",
              "  .colab-df-quickchart:hover {\n",
              "    background-color: var(--hover-bg-color);\n",
              "    box-shadow: 0 1px 2px rgba(60, 64, 67, 0.3), 0 1px 3px 1px rgba(60, 64, 67, 0.15);\n",
              "    fill: var(--button-hover-fill-color);\n",
              "  }\n",
              "\n",
              "  .colab-df-quickchart-complete:disabled,\n",
              "  .colab-df-quickchart-complete:disabled:hover {\n",
              "    background-color: var(--disabled-bg-color);\n",
              "    fill: var(--disabled-fill-color);\n",
              "    box-shadow: none;\n",
              "  }\n",
              "\n",
              "  .colab-df-spinner {\n",
              "    border: 2px solid var(--fill-color);\n",
              "    border-color: transparent;\n",
              "    border-bottom-color: var(--fill-color);\n",
              "    animation:\n",
              "      spin 1s steps(1) infinite;\n",
              "  }\n",
              "\n",
              "  @keyframes spin {\n",
              "    0% {\n",
              "      border-color: transparent;\n",
              "      border-bottom-color: var(--fill-color);\n",
              "      border-left-color: var(--fill-color);\n",
              "    }\n",
              "    20% {\n",
              "      border-color: transparent;\n",
              "      border-left-color: var(--fill-color);\n",
              "      border-top-color: var(--fill-color);\n",
              "    }\n",
              "    30% {\n",
              "      border-color: transparent;\n",
              "      border-left-color: var(--fill-color);\n",
              "      border-top-color: var(--fill-color);\n",
              "      border-right-color: var(--fill-color);\n",
              "    }\n",
              "    40% {\n",
              "      border-color: transparent;\n",
              "      border-right-color: var(--fill-color);\n",
              "      border-top-color: var(--fill-color);\n",
              "    }\n",
              "    60% {\n",
              "      border-color: transparent;\n",
              "      border-right-color: var(--fill-color);\n",
              "    }\n",
              "    80% {\n",
              "      border-color: transparent;\n",
              "      border-right-color: var(--fill-color);\n",
              "      border-bottom-color: var(--fill-color);\n",
              "    }\n",
              "    90% {\n",
              "      border-color: transparent;\n",
              "      border-bottom-color: var(--fill-color);\n",
              "    }\n",
              "  }\n",
              "</style>\n",
              "\n",
              "  <script>\n",
              "    async function quickchart(key) {\n",
              "      const quickchartButtonEl =\n",
              "        document.querySelector('#' + key + ' button');\n",
              "      quickchartButtonEl.disabled = true;  // To prevent multiple clicks.\n",
              "      quickchartButtonEl.classList.add('colab-df-spinner');\n",
              "      try {\n",
              "        const charts = await google.colab.kernel.invokeFunction(\n",
              "            'suggestCharts', [key], {});\n",
              "      } catch (error) {\n",
              "        console.error('Error during call to suggestCharts:', error);\n",
              "      }\n",
              "      quickchartButtonEl.classList.remove('colab-df-spinner');\n",
              "      quickchartButtonEl.classList.add('colab-df-quickchart-complete');\n",
              "    }\n",
              "    (() => {\n",
              "      let quickchartButtonEl =\n",
              "        document.querySelector('#df-e5171553-cf21-4f41-98b0-3f2f7379c437 button');\n",
              "      quickchartButtonEl.style.display =\n",
              "        google.colab.kernel.accessAllowed ? 'block' : 'none';\n",
              "    })();\n",
              "  </script>\n",
              "</div>\n",
              "\n",
              "  <div id=\"id_1246fc49-6b76-4164-a7d5-38adfc4fb073\">\n",
              "    <style>\n",
              "      .colab-df-generate {\n",
              "        background-color: #E8F0FE;\n",
              "        border: none;\n",
              "        border-radius: 50%;\n",
              "        cursor: pointer;\n",
              "        display: none;\n",
              "        fill: #1967D2;\n",
              "        height: 32px;\n",
              "        padding: 0 0 0 0;\n",
              "        width: 32px;\n",
              "      }\n",
              "\n",
              "      .colab-df-generate:hover {\n",
              "        background-color: #E2EBFA;\n",
              "        box-shadow: 0px 1px 2px rgba(60, 64, 67, 0.3), 0px 1px 3px 1px rgba(60, 64, 67, 0.15);\n",
              "        fill: #174EA6;\n",
              "      }\n",
              "\n",
              "      [theme=dark] .colab-df-generate {\n",
              "        background-color: #3B4455;\n",
              "        fill: #D2E3FC;\n",
              "      }\n",
              "\n",
              "      [theme=dark] .colab-df-generate:hover {\n",
              "        background-color: #434B5C;\n",
              "        box-shadow: 0px 1px 3px 1px rgba(0, 0, 0, 0.15);\n",
              "        filter: drop-shadow(0px 1px 2px rgba(0, 0, 0, 0.3));\n",
              "        fill: #FFFFFF;\n",
              "      }\n",
              "    </style>\n",
              "    <button class=\"colab-df-generate\" onclick=\"generateWithVariable('df')\"\n",
              "            title=\"Generate code using this dataframe.\"\n",
              "            style=\"display:none;\">\n",
              "\n",
              "  <svg xmlns=\"http://www.w3.org/2000/svg\" height=\"24px\"viewBox=\"0 0 24 24\"\n",
              "       width=\"24px\">\n",
              "    <path d=\"M7,19H8.4L18.45,9,17,7.55,7,17.6ZM5,21V16.75L18.45,3.32a2,2,0,0,1,2.83,0l1.4,1.43a1.91,1.91,0,0,1,.58,1.4,1.91,1.91,0,0,1-.58,1.4L9.25,21ZM18.45,9,17,7.55Zm-12,3A5.31,5.31,0,0,0,4.9,8.1,5.31,5.31,0,0,0,1,6.5,5.31,5.31,0,0,0,4.9,4.9,5.31,5.31,0,0,0,6.5,1,5.31,5.31,0,0,0,8.1,4.9,5.31,5.31,0,0,0,12,6.5,5.46,5.46,0,0,0,6.5,12Z\"/>\n",
              "  </svg>\n",
              "    </button>\n",
              "    <script>\n",
              "      (() => {\n",
              "      const buttonEl =\n",
              "        document.querySelector('#id_1246fc49-6b76-4164-a7d5-38adfc4fb073 button.colab-df-generate');\n",
              "      buttonEl.style.display =\n",
              "        google.colab.kernel.accessAllowed ? 'block' : 'none';\n",
              "\n",
              "      buttonEl.onclick = () => {\n",
              "        google.colab.notebook.generateWithVariable('df');\n",
              "      }\n",
              "      })();\n",
              "    </script>\n",
              "  </div>\n",
              "\n",
              "    </div>\n",
              "  </div>\n"
            ],
            "application/vnd.google.colaboratory.intrinsic+json": {
              "type": "dataframe",
              "variable_name": "df",
              "summary": "{\n  \"name\": \"df\",\n  \"rows\": 4,\n  \"fields\": [\n    {\n      \"column\": \"ID\",\n      \"properties\": {\n        \"dtype\": \"number\",\n        \"std\": 3455,\n        \"min\": 1254,\n        \"max\": 7894,\n        \"num_unique_values\": 4,\n        \"samples\": [\n          7894,\n          7744,\n          2561\n        ],\n        \"semantic_type\": \"\",\n        \"description\": \"\"\n      }\n    },\n    {\n      \"column\": \"Name\",\n      \"properties\": {\n        \"dtype\": \"string\",\n        \"num_unique_values\": 4,\n        \"samples\": [\n          \"Emp2\",\n          \"Emp4\",\n          \"Emp1\"\n        ],\n        \"semantic_type\": \"\",\n        \"description\": \"\"\n      }\n    },\n    {\n      \"column\": \"Department\",\n      \"properties\": {\n        \"dtype\": \"string\",\n        \"num_unique_values\": 3,\n        \"samples\": [\n          \"CS\",\n          \"Eng\",\n          \"Qua\"\n        ],\n        \"semantic_type\": \"\",\n        \"description\": \"\"\n      }\n    },\n    {\n      \"column\": \"Salary\",\n      \"properties\": {\n        \"dtype\": \"number\",\n        \"std\": 426,\n        \"min\": 600,\n        \"max\": 1520,\n        \"num_unique_values\": 4,\n        \"samples\": [\n          750,\n          1520,\n          600\n        ],\n        \"semantic_type\": \"\",\n        \"description\": \"\"\n      }\n    },\n    {\n      \"column\": \"Gender\",\n      \"properties\": {\n        \"dtype\": \"string\",\n        \"num_unique_values\": 2,\n        \"samples\": [\n          \"M\",\n          \"F\"\n        ],\n        \"semantic_type\": \"\",\n        \"description\": \"\"\n      }\n    }\n  ]\n}"
            }
          },
          "metadata": {},
          "execution_count": 51
        }
      ]
    },
    {
      "cell_type": "code",
      "source": [
        "def printDF(df):\n",
        " print(\"shape:\" , df.shape)\n",
        "print(\"shape:\" , df.shape)\n",
        "print(\"Columns list:\", df.columns.tolist())"
      ],
      "metadata": {
        "colab": {
          "base_uri": "https://localhost:8080/"
        },
        "id": "DHGRQ951nURV",
        "outputId": "c6e6a3b1-8b66-4c59-94c4-a278c36962bb"
      },
      "execution_count": 52,
      "outputs": [
        {
          "output_type": "stream",
          "name": "stdout",
          "text": [
            "shape: (4, 5)\n",
            "Columns list: ['ID', 'Name', 'Department', 'Salary', 'Gender']\n"
          ]
        }
      ]
    },
    {
      "cell_type": "code",
      "source": [
        "print(\"DataFrame:\")\n",
        "print(df)"
      ],
      "metadata": {
        "colab": {
          "base_uri": "https://localhost:8080/"
        },
        "id": "5OxIbrekrk25",
        "outputId": "959d1a3e-ffb2-4a0c-a79d-455b85fdee3e"
      },
      "execution_count": 53,
      "outputs": [
        {
          "output_type": "stream",
          "name": "stdout",
          "text": [
            "DataFrame:\n",
            "     ID  Name Department  Salary Gender\n",
            "0  2561  Emp1         CS     600      F\n",
            "1  7894  Emp2        Eng     750      M\n",
            "2  1254  Emp3        Qua     680      M\n",
            "3  7744  Emp4        Eng    1520      F\n"
          ]
        }
      ]
    },
    {
      "cell_type": "markdown",
      "source": [
        "Define a function called printCol() that receives a dataframe and a column lable and prints the data in the given column.\n",
        "\n",
        "Call printCol().\n",
        "\n",
        ">>>>>>> no answer"
      ],
      "metadata": {
        "id": "KpM6LcfP_jyI"
      }
    },
    {
      "cell_type": "code",
      "source": [
        "print( \"the third row is \" ,)\n",
        "df.iloc[2]"
      ],
      "metadata": {
        "colab": {
          "base_uri": "https://localhost:8080/",
          "height": 259
        },
        "id": "Isw0hCay6tyU",
        "outputId": "c0ab77b1-099a-4968-9605-1a637275edfa"
      },
      "execution_count": 61,
      "outputs": [
        {
          "output_type": "stream",
          "name": "stdout",
          "text": [
            "the third row is \n"
          ]
        },
        {
          "output_type": "execute_result",
          "data": {
            "text/plain": [
              "ID            1254\n",
              "Name          Emp3\n",
              "Department     Qua\n",
              "Salary         680\n",
              "Gender           M\n",
              "Name: 2, dtype: object"
            ],
            "text/html": [
              "<div>\n",
              "<style scoped>\n",
              "    .dataframe tbody tr th:only-of-type {\n",
              "        vertical-align: middle;\n",
              "    }\n",
              "\n",
              "    .dataframe tbody tr th {\n",
              "        vertical-align: top;\n",
              "    }\n",
              "\n",
              "    .dataframe thead th {\n",
              "        text-align: right;\n",
              "    }\n",
              "</style>\n",
              "<table border=\"1\" class=\"dataframe\">\n",
              "  <thead>\n",
              "    <tr style=\"text-align: right;\">\n",
              "      <th></th>\n",
              "      <th>2</th>\n",
              "    </tr>\n",
              "  </thead>\n",
              "  <tbody>\n",
              "    <tr>\n",
              "      <th>ID</th>\n",
              "      <td>1254</td>\n",
              "    </tr>\n",
              "    <tr>\n",
              "      <th>Name</th>\n",
              "      <td>Emp3</td>\n",
              "    </tr>\n",
              "    <tr>\n",
              "      <th>Department</th>\n",
              "      <td>Qua</td>\n",
              "    </tr>\n",
              "    <tr>\n",
              "      <th>Salary</th>\n",
              "      <td>680</td>\n",
              "    </tr>\n",
              "    <tr>\n",
              "      <th>Gender</th>\n",
              "      <td>M</td>\n",
              "    </tr>\n",
              "  </tbody>\n",
              "</table>\n",
              "</div><br><label><b>dtype:</b> object</label>"
            ]
          },
          "metadata": {},
          "execution_count": 61
        }
      ]
    },
    {
      "cell_type": "markdown",
      "source": [
        "note : I changed the second name , not the first >>> to match the Gender"
      ],
      "metadata": {
        "id": "JIN9Ny6hGuu7"
      }
    },
    {
      "cell_type": "code",
      "source": [
        "df.at[1, 'Name'] = 'Ahmad'\n",
        "df"
      ],
      "metadata": {
        "colab": {
          "base_uri": "https://localhost:8080/",
          "height": 175
        },
        "id": "co73ktUL_M11",
        "outputId": "57ce2fd6-ab4d-445c-d10f-3ed316f5c8cc"
      },
      "execution_count": 55,
      "outputs": [
        {
          "output_type": "execute_result",
          "data": {
            "text/plain": [
              "     ID   Name Department  Salary Gender\n",
              "0  2561   Emp1         CS     600      F\n",
              "1  7894  Ahmad        Eng     750      M\n",
              "2  1254   Emp3        Qua     680      M\n",
              "3  7744   Emp4        Eng    1520      F"
            ],
            "text/html": [
              "\n",
              "  <div id=\"df-c699ce64-6108-4fd8-8844-9af88178b4b2\" class=\"colab-df-container\">\n",
              "    <div>\n",
              "<style scoped>\n",
              "    .dataframe tbody tr th:only-of-type {\n",
              "        vertical-align: middle;\n",
              "    }\n",
              "\n",
              "    .dataframe tbody tr th {\n",
              "        vertical-align: top;\n",
              "    }\n",
              "\n",
              "    .dataframe thead th {\n",
              "        text-align: right;\n",
              "    }\n",
              "</style>\n",
              "<table border=\"1\" class=\"dataframe\">\n",
              "  <thead>\n",
              "    <tr style=\"text-align: right;\">\n",
              "      <th></th>\n",
              "      <th>ID</th>\n",
              "      <th>Name</th>\n",
              "      <th>Department</th>\n",
              "      <th>Salary</th>\n",
              "      <th>Gender</th>\n",
              "    </tr>\n",
              "  </thead>\n",
              "  <tbody>\n",
              "    <tr>\n",
              "      <th>0</th>\n",
              "      <td>2561</td>\n",
              "      <td>Emp1</td>\n",
              "      <td>CS</td>\n",
              "      <td>600</td>\n",
              "      <td>F</td>\n",
              "    </tr>\n",
              "    <tr>\n",
              "      <th>1</th>\n",
              "      <td>7894</td>\n",
              "      <td>Ahmad</td>\n",
              "      <td>Eng</td>\n",
              "      <td>750</td>\n",
              "      <td>M</td>\n",
              "    </tr>\n",
              "    <tr>\n",
              "      <th>2</th>\n",
              "      <td>1254</td>\n",
              "      <td>Emp3</td>\n",
              "      <td>Qua</td>\n",
              "      <td>680</td>\n",
              "      <td>M</td>\n",
              "    </tr>\n",
              "    <tr>\n",
              "      <th>3</th>\n",
              "      <td>7744</td>\n",
              "      <td>Emp4</td>\n",
              "      <td>Eng</td>\n",
              "      <td>1520</td>\n",
              "      <td>F</td>\n",
              "    </tr>\n",
              "  </tbody>\n",
              "</table>\n",
              "</div>\n",
              "    <div class=\"colab-df-buttons\">\n",
              "\n",
              "  <div class=\"colab-df-container\">\n",
              "    <button class=\"colab-df-convert\" onclick=\"convertToInteractive('df-c699ce64-6108-4fd8-8844-9af88178b4b2')\"\n",
              "            title=\"Convert this dataframe to an interactive table.\"\n",
              "            style=\"display:none;\">\n",
              "\n",
              "  <svg xmlns=\"http://www.w3.org/2000/svg\" height=\"24px\" viewBox=\"0 -960 960 960\">\n",
              "    <path d=\"M120-120v-720h720v720H120Zm60-500h600v-160H180v160Zm220 220h160v-160H400v160Zm0 220h160v-160H400v160ZM180-400h160v-160H180v160Zm440 0h160v-160H620v160ZM180-180h160v-160H180v160Zm440 0h160v-160H620v160Z\"/>\n",
              "  </svg>\n",
              "    </button>\n",
              "\n",
              "  <style>\n",
              "    .colab-df-container {\n",
              "      display:flex;\n",
              "      gap: 12px;\n",
              "    }\n",
              "\n",
              "    .colab-df-convert {\n",
              "      background-color: #E8F0FE;\n",
              "      border: none;\n",
              "      border-radius: 50%;\n",
              "      cursor: pointer;\n",
              "      display: none;\n",
              "      fill: #1967D2;\n",
              "      height: 32px;\n",
              "      padding: 0 0 0 0;\n",
              "      width: 32px;\n",
              "    }\n",
              "\n",
              "    .colab-df-convert:hover {\n",
              "      background-color: #E2EBFA;\n",
              "      box-shadow: 0px 1px 2px rgba(60, 64, 67, 0.3), 0px 1px 3px 1px rgba(60, 64, 67, 0.15);\n",
              "      fill: #174EA6;\n",
              "    }\n",
              "\n",
              "    .colab-df-buttons div {\n",
              "      margin-bottom: 4px;\n",
              "    }\n",
              "\n",
              "    [theme=dark] .colab-df-convert {\n",
              "      background-color: #3B4455;\n",
              "      fill: #D2E3FC;\n",
              "    }\n",
              "\n",
              "    [theme=dark] .colab-df-convert:hover {\n",
              "      background-color: #434B5C;\n",
              "      box-shadow: 0px 1px 3px 1px rgba(0, 0, 0, 0.15);\n",
              "      filter: drop-shadow(0px 1px 2px rgba(0, 0, 0, 0.3));\n",
              "      fill: #FFFFFF;\n",
              "    }\n",
              "  </style>\n",
              "\n",
              "    <script>\n",
              "      const buttonEl =\n",
              "        document.querySelector('#df-c699ce64-6108-4fd8-8844-9af88178b4b2 button.colab-df-convert');\n",
              "      buttonEl.style.display =\n",
              "        google.colab.kernel.accessAllowed ? 'block' : 'none';\n",
              "\n",
              "      async function convertToInteractive(key) {\n",
              "        const element = document.querySelector('#df-c699ce64-6108-4fd8-8844-9af88178b4b2');\n",
              "        const dataTable =\n",
              "          await google.colab.kernel.invokeFunction('convertToInteractive',\n",
              "                                                    [key], {});\n",
              "        if (!dataTable) return;\n",
              "\n",
              "        const docLinkHtml = 'Like what you see? Visit the ' +\n",
              "          '<a target=\"_blank\" href=https://colab.research.google.com/notebooks/data_table.ipynb>data table notebook</a>'\n",
              "          + ' to learn more about interactive tables.';\n",
              "        element.innerHTML = '';\n",
              "        dataTable['output_type'] = 'display_data';\n",
              "        await google.colab.output.renderOutput(dataTable, element);\n",
              "        const docLink = document.createElement('div');\n",
              "        docLink.innerHTML = docLinkHtml;\n",
              "        element.appendChild(docLink);\n",
              "      }\n",
              "    </script>\n",
              "  </div>\n",
              "\n",
              "\n",
              "<div id=\"df-5178ae16-0c6d-499c-a54f-7cc796f9b0b3\">\n",
              "  <button class=\"colab-df-quickchart\" onclick=\"quickchart('df-5178ae16-0c6d-499c-a54f-7cc796f9b0b3')\"\n",
              "            title=\"Suggest charts\"\n",
              "            style=\"display:none;\">\n",
              "\n",
              "<svg xmlns=\"http://www.w3.org/2000/svg\" height=\"24px\"viewBox=\"0 0 24 24\"\n",
              "     width=\"24px\">\n",
              "    <g>\n",
              "        <path d=\"M19 3H5c-1.1 0-2 .9-2 2v14c0 1.1.9 2 2 2h14c1.1 0 2-.9 2-2V5c0-1.1-.9-2-2-2zM9 17H7v-7h2v7zm4 0h-2V7h2v10zm4 0h-2v-4h2v4z\"/>\n",
              "    </g>\n",
              "</svg>\n",
              "  </button>\n",
              "\n",
              "<style>\n",
              "  .colab-df-quickchart {\n",
              "      --bg-color: #E8F0FE;\n",
              "      --fill-color: #1967D2;\n",
              "      --hover-bg-color: #E2EBFA;\n",
              "      --hover-fill-color: #174EA6;\n",
              "      --disabled-fill-color: #AAA;\n",
              "      --disabled-bg-color: #DDD;\n",
              "  }\n",
              "\n",
              "  [theme=dark] .colab-df-quickchart {\n",
              "      --bg-color: #3B4455;\n",
              "      --fill-color: #D2E3FC;\n",
              "      --hover-bg-color: #434B5C;\n",
              "      --hover-fill-color: #FFFFFF;\n",
              "      --disabled-bg-color: #3B4455;\n",
              "      --disabled-fill-color: #666;\n",
              "  }\n",
              "\n",
              "  .colab-df-quickchart {\n",
              "    background-color: var(--bg-color);\n",
              "    border: none;\n",
              "    border-radius: 50%;\n",
              "    cursor: pointer;\n",
              "    display: none;\n",
              "    fill: var(--fill-color);\n",
              "    height: 32px;\n",
              "    padding: 0;\n",
              "    width: 32px;\n",
              "  }\n",
              "\n",
              "  .colab-df-quickchart:hover {\n",
              "    background-color: var(--hover-bg-color);\n",
              "    box-shadow: 0 1px 2px rgba(60, 64, 67, 0.3), 0 1px 3px 1px rgba(60, 64, 67, 0.15);\n",
              "    fill: var(--button-hover-fill-color);\n",
              "  }\n",
              "\n",
              "  .colab-df-quickchart-complete:disabled,\n",
              "  .colab-df-quickchart-complete:disabled:hover {\n",
              "    background-color: var(--disabled-bg-color);\n",
              "    fill: var(--disabled-fill-color);\n",
              "    box-shadow: none;\n",
              "  }\n",
              "\n",
              "  .colab-df-spinner {\n",
              "    border: 2px solid var(--fill-color);\n",
              "    border-color: transparent;\n",
              "    border-bottom-color: var(--fill-color);\n",
              "    animation:\n",
              "      spin 1s steps(1) infinite;\n",
              "  }\n",
              "\n",
              "  @keyframes spin {\n",
              "    0% {\n",
              "      border-color: transparent;\n",
              "      border-bottom-color: var(--fill-color);\n",
              "      border-left-color: var(--fill-color);\n",
              "    }\n",
              "    20% {\n",
              "      border-color: transparent;\n",
              "      border-left-color: var(--fill-color);\n",
              "      border-top-color: var(--fill-color);\n",
              "    }\n",
              "    30% {\n",
              "      border-color: transparent;\n",
              "      border-left-color: var(--fill-color);\n",
              "      border-top-color: var(--fill-color);\n",
              "      border-right-color: var(--fill-color);\n",
              "    }\n",
              "    40% {\n",
              "      border-color: transparent;\n",
              "      border-right-color: var(--fill-color);\n",
              "      border-top-color: var(--fill-color);\n",
              "    }\n",
              "    60% {\n",
              "      border-color: transparent;\n",
              "      border-right-color: var(--fill-color);\n",
              "    }\n",
              "    80% {\n",
              "      border-color: transparent;\n",
              "      border-right-color: var(--fill-color);\n",
              "      border-bottom-color: var(--fill-color);\n",
              "    }\n",
              "    90% {\n",
              "      border-color: transparent;\n",
              "      border-bottom-color: var(--fill-color);\n",
              "    }\n",
              "  }\n",
              "</style>\n",
              "\n",
              "  <script>\n",
              "    async function quickchart(key) {\n",
              "      const quickchartButtonEl =\n",
              "        document.querySelector('#' + key + ' button');\n",
              "      quickchartButtonEl.disabled = true;  // To prevent multiple clicks.\n",
              "      quickchartButtonEl.classList.add('colab-df-spinner');\n",
              "      try {\n",
              "        const charts = await google.colab.kernel.invokeFunction(\n",
              "            'suggestCharts', [key], {});\n",
              "      } catch (error) {\n",
              "        console.error('Error during call to suggestCharts:', error);\n",
              "      }\n",
              "      quickchartButtonEl.classList.remove('colab-df-spinner');\n",
              "      quickchartButtonEl.classList.add('colab-df-quickchart-complete');\n",
              "    }\n",
              "    (() => {\n",
              "      let quickchartButtonEl =\n",
              "        document.querySelector('#df-5178ae16-0c6d-499c-a54f-7cc796f9b0b3 button');\n",
              "      quickchartButtonEl.style.display =\n",
              "        google.colab.kernel.accessAllowed ? 'block' : 'none';\n",
              "    })();\n",
              "  </script>\n",
              "</div>\n",
              "\n",
              "  <div id=\"id_15213f3b-9f28-45e5-b879-0940e1152923\">\n",
              "    <style>\n",
              "      .colab-df-generate {\n",
              "        background-color: #E8F0FE;\n",
              "        border: none;\n",
              "        border-radius: 50%;\n",
              "        cursor: pointer;\n",
              "        display: none;\n",
              "        fill: #1967D2;\n",
              "        height: 32px;\n",
              "        padding: 0 0 0 0;\n",
              "        width: 32px;\n",
              "      }\n",
              "\n",
              "      .colab-df-generate:hover {\n",
              "        background-color: #E2EBFA;\n",
              "        box-shadow: 0px 1px 2px rgba(60, 64, 67, 0.3), 0px 1px 3px 1px rgba(60, 64, 67, 0.15);\n",
              "        fill: #174EA6;\n",
              "      }\n",
              "\n",
              "      [theme=dark] .colab-df-generate {\n",
              "        background-color: #3B4455;\n",
              "        fill: #D2E3FC;\n",
              "      }\n",
              "\n",
              "      [theme=dark] .colab-df-generate:hover {\n",
              "        background-color: #434B5C;\n",
              "        box-shadow: 0px 1px 3px 1px rgba(0, 0, 0, 0.15);\n",
              "        filter: drop-shadow(0px 1px 2px rgba(0, 0, 0, 0.3));\n",
              "        fill: #FFFFFF;\n",
              "      }\n",
              "    </style>\n",
              "    <button class=\"colab-df-generate\" onclick=\"generateWithVariable('df')\"\n",
              "            title=\"Generate code using this dataframe.\"\n",
              "            style=\"display:none;\">\n",
              "\n",
              "  <svg xmlns=\"http://www.w3.org/2000/svg\" height=\"24px\"viewBox=\"0 0 24 24\"\n",
              "       width=\"24px\">\n",
              "    <path d=\"M7,19H8.4L18.45,9,17,7.55,7,17.6ZM5,21V16.75L18.45,3.32a2,2,0,0,1,2.83,0l1.4,1.43a1.91,1.91,0,0,1,.58,1.4,1.91,1.91,0,0,1-.58,1.4L9.25,21ZM18.45,9,17,7.55Zm-12,3A5.31,5.31,0,0,0,4.9,8.1,5.31,5.31,0,0,0,1,6.5,5.31,5.31,0,0,0,4.9,4.9,5.31,5.31,0,0,0,6.5,1,5.31,5.31,0,0,0,8.1,4.9,5.31,5.31,0,0,0,12,6.5,5.46,5.46,0,0,0,6.5,12Z\"/>\n",
              "  </svg>\n",
              "    </button>\n",
              "    <script>\n",
              "      (() => {\n",
              "      const buttonEl =\n",
              "        document.querySelector('#id_15213f3b-9f28-45e5-b879-0940e1152923 button.colab-df-generate');\n",
              "      buttonEl.style.display =\n",
              "        google.colab.kernel.accessAllowed ? 'block' : 'none';\n",
              "\n",
              "      buttonEl.onclick = () => {\n",
              "        google.colab.notebook.generateWithVariable('df');\n",
              "      }\n",
              "      })();\n",
              "    </script>\n",
              "  </div>\n",
              "\n",
              "    </div>\n",
              "  </div>\n"
            ],
            "application/vnd.google.colaboratory.intrinsic+json": {
              "type": "dataframe",
              "variable_name": "df",
              "summary": "{\n  \"name\": \"df\",\n  \"rows\": 4,\n  \"fields\": [\n    {\n      \"column\": \"ID\",\n      \"properties\": {\n        \"dtype\": \"number\",\n        \"std\": 3455,\n        \"min\": 1254,\n        \"max\": 7894,\n        \"num_unique_values\": 4,\n        \"samples\": [\n          7894,\n          7744,\n          2561\n        ],\n        \"semantic_type\": \"\",\n        \"description\": \"\"\n      }\n    },\n    {\n      \"column\": \"Name\",\n      \"properties\": {\n        \"dtype\": \"string\",\n        \"num_unique_values\": 4,\n        \"samples\": [\n          \"Ahmad\",\n          \"Emp4\",\n          \"Emp1\"\n        ],\n        \"semantic_type\": \"\",\n        \"description\": \"\"\n      }\n    },\n    {\n      \"column\": \"Department\",\n      \"properties\": {\n        \"dtype\": \"string\",\n        \"num_unique_values\": 3,\n        \"samples\": [\n          \"CS\",\n          \"Eng\",\n          \"Qua\"\n        ],\n        \"semantic_type\": \"\",\n        \"description\": \"\"\n      }\n    },\n    {\n      \"column\": \"Salary\",\n      \"properties\": {\n        \"dtype\": \"number\",\n        \"std\": 426,\n        \"min\": 600,\n        \"max\": 1520,\n        \"num_unique_values\": 4,\n        \"samples\": [\n          750,\n          1520,\n          600\n        ],\n        \"semantic_type\": \"\",\n        \"description\": \"\"\n      }\n    },\n    {\n      \"column\": \"Gender\",\n      \"properties\": {\n        \"dtype\": \"string\",\n        \"num_unique_values\": 2,\n        \"samples\": [\n          \"M\",\n          \"F\"\n        ],\n        \"semantic_type\": \"\",\n        \"description\": \"\"\n      }\n    }\n  ]\n}"
            }
          },
          "metadata": {},
          "execution_count": 55
        }
      ]
    },
    {
      "cell_type": "code",
      "source": [
        "print(\"the second row is\")\n",
        "df.iloc[1]"
      ],
      "metadata": {
        "colab": {
          "base_uri": "https://localhost:8080/",
          "height": 259
        },
        "id": "2Qk8y6yIAweB",
        "outputId": "ef6f6c1a-e62e-4515-b05c-168a822c3651"
      },
      "execution_count": 62,
      "outputs": [
        {
          "output_type": "stream",
          "name": "stdout",
          "text": [
            "the second row is\n"
          ]
        },
        {
          "output_type": "execute_result",
          "data": {
            "text/plain": [
              "ID             7894\n",
              "Name          Ahmad\n",
              "Department      Eng\n",
              "Salary          750\n",
              "Gender            M\n",
              "Name: 1, dtype: object"
            ],
            "text/html": [
              "<div>\n",
              "<style scoped>\n",
              "    .dataframe tbody tr th:only-of-type {\n",
              "        vertical-align: middle;\n",
              "    }\n",
              "\n",
              "    .dataframe tbody tr th {\n",
              "        vertical-align: top;\n",
              "    }\n",
              "\n",
              "    .dataframe thead th {\n",
              "        text-align: right;\n",
              "    }\n",
              "</style>\n",
              "<table border=\"1\" class=\"dataframe\">\n",
              "  <thead>\n",
              "    <tr style=\"text-align: right;\">\n",
              "      <th></th>\n",
              "      <th>1</th>\n",
              "    </tr>\n",
              "  </thead>\n",
              "  <tbody>\n",
              "    <tr>\n",
              "      <th>ID</th>\n",
              "      <td>7894</td>\n",
              "    </tr>\n",
              "    <tr>\n",
              "      <th>Name</th>\n",
              "      <td>Ahmad</td>\n",
              "    </tr>\n",
              "    <tr>\n",
              "      <th>Department</th>\n",
              "      <td>Eng</td>\n",
              "    </tr>\n",
              "    <tr>\n",
              "      <th>Salary</th>\n",
              "      <td>750</td>\n",
              "    </tr>\n",
              "    <tr>\n",
              "      <th>Gender</th>\n",
              "      <td>M</td>\n",
              "    </tr>\n",
              "  </tbody>\n",
              "</table>\n",
              "</div><br><label><b>dtype:</b> object</label>"
            ]
          },
          "metadata": {},
          "execution_count": 62
        }
      ]
    },
    {
      "cell_type": "code",
      "source": [
        "average_salary = df['Salary'].mean()\n",
        "print(\"avg of salary:\" , average_salary)"
      ],
      "metadata": {
        "colab": {
          "base_uri": "https://localhost:8080/"
        },
        "id": "dsxeupW_Dq7n",
        "outputId": "7bf2757d-d591-4a4c-ee86-cfac0c916fcd"
      },
      "execution_count": 57,
      "outputs": [
        {
          "output_type": "stream",
          "name": "stdout",
          "text": [
            "average salary: 887.5\n"
          ]
        }
      ]
    },
    {
      "cell_type": "code",
      "source": [
        "minimum_salary = df['Salary'].min()\n",
        "print(\"min salary:\" , minimum_salary)"
      ],
      "metadata": {
        "colab": {
          "base_uri": "https://localhost:8080/"
        },
        "id": "EejfklQuHu4g",
        "outputId": "a8f02122-3a67-4c52-ca60-1067c74e57cf"
      },
      "execution_count": 58,
      "outputs": [
        {
          "output_type": "stream",
          "name": "stdout",
          "text": [
            "minimum salary: 600\n"
          ]
        }
      ]
    },
    {
      "cell_type": "code",
      "source": [
        "maximum_salary = df['Salary'].max()\n",
        "print(\"max salary:\" , maximum_salary)"
      ],
      "metadata": {
        "colab": {
          "base_uri": "https://localhost:8080/"
        },
        "id": "n4NNL4nZH6e7",
        "outputId": "0a85360e-0697-43fe-82d6-ed5b8cffe649"
      },
      "execution_count": 59,
      "outputs": [
        {
          "output_type": "stream",
          "name": "stdout",
          "text": [
            "maximum salary: 1520\n"
          ]
        }
      ]
    }
  ]
}
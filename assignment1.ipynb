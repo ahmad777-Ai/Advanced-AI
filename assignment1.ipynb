{
  "nbformat": 4,
  "nbformat_minor": 0,
  "metadata": {
    "colab": {
      "provenance": [],
      "authorship_tag": "ABX9TyM8g3aPsdV6Sn0YhHaXtQDw",
      "include_colab_link": true
    },
    "kernelspec": {
      "name": "python3",
      "display_name": "Python 3"
    },
    "language_info": {
      "name": "python"
    }
  },
  "cells": [
    {
      "cell_type": "markdown",
      "metadata": {
        "id": "view-in-github",
        "colab_type": "text"
      },
      "source": [
        "<a href=\"https://colab.research.google.com/github/ahmad777-Ai/Advanced-AI/blob/main/assignment1.ipynb\" target=\"_parent\"><img src=\"https://colab.research.google.com/assets/colab-badge.svg\" alt=\"Open In Colab\"/></a>"
      ]
    },
    {
      "cell_type": "code",
      "execution_count": 1,
      "metadata": {
        "colab": {
          "base_uri": "https://localhost:8080/"
        },
        "id": "ety_z4f3zipe",
        "outputId": "57cf39f2-dac5-4866-cf50-1f2057326762"
      },
      "outputs": [
        {
          "output_type": "stream",
          "name": "stdout",
          "text": [
            "sum: 15\n",
            "difference: 5\n",
            "product: 50\n",
            "division: 2.0\n"
          ]
        }
      ],
      "source": [
        "a = 10\n",
        "b = 5\n",
        "sum = a+b\n",
        "difference = a-b\n",
        "product = a*b\n",
        "division = a/b\n",
        "print(\"sum:\" , sum)\n",
        "print(\"difference:\" , difference)\n",
        "print(\"product:\" , product)\n",
        "print(\"division:\" , division)\n",
        "\n",
        "\n"
      ]
    },
    {
      "cell_type": "code",
      "source": [
        "print(f\"the sum of the two numbers {a} , {b} is {sum}\")"
      ],
      "metadata": {
        "colab": {
          "base_uri": "https://localhost:8080/"
        },
        "id": "c1aF-dak1iok",
        "outputId": "d6a3edf1-c1d6-44f2-f0d2-fa3a492524a1"
      },
      "execution_count": 3,
      "outputs": [
        {
          "output_type": "stream",
          "name": "stdout",
          "text": [
            "the sum of the two numbers 10 , 5 is 15\n"
          ]
        }
      ]
    },
    {
      "cell_type": "code",
      "source": [
        "x = 13//2\n",
        "print(x)\n",
        "y = 13%2\n",
        "print(y)\n"
      ],
      "metadata": {
        "colab": {
          "base_uri": "https://localhost:8080/"
        },
        "id": "aDonRF_k2ZfF",
        "outputId": "a96f3b31-b055-4551-e137-4018c281958e"
      },
      "execution_count": 5,
      "outputs": [
        {
          "output_type": "stream",
          "name": "stdout",
          "text": [
            "6\n",
            "1\n"
          ]
        }
      ]
    },
    {
      "cell_type": "code",
      "source": [
        "#boolean variables and comparisons\n",
        "x = 10\n",
        "y = 5\n",
        "\n",
        "is_greater = x>y\n",
        "is_equal = x==y\n",
        "is_not_equal = x!=y\n",
        "\n",
        "print(\"is x greater than y?\" , is_greater)\n",
        "print(\"is x equal y?\" , is_equal)\n",
        "print(\"is x not equal to y?\" , is_not_equal)\n"
      ],
      "metadata": {
        "colab": {
          "base_uri": "https://localhost:8080/"
        },
        "id": "nzapNjsb3GBT",
        "outputId": "c50b869c-58fe-40e2-93e1-55c4623a1c97"
      },
      "execution_count": 7,
      "outputs": [
        {
          "output_type": "stream",
          "name": "stdout",
          "text": [
            "is x greater than y? True\n",
            "is x equal y? False\n",
            "is x not equal to y? True\n"
          ]
        }
      ]
    },
    {
      "cell_type": "code",
      "source": [
        "#variable assignment\n",
        "name = \"ahmad\"\n",
        "age = 21\n",
        "is_student = True\n",
        "print(f\"{name}'s age is {age}.  he is a student is {is_student}\")\n"
      ],
      "metadata": {
        "colab": {
          "base_uri": "https://localhost:8080/"
        },
        "id": "Sa4nKPRt7Gvx",
        "outputId": "b2ec3673-a3c1-4864-fbec-28c307d7315e"
      },
      "execution_count": 14,
      "outputs": [
        {
          "output_type": "stream",
          "name": "stdout",
          "text": [
            "ahmad's age is 21.  he is a student is True\n"
          ]
        }
      ]
    },
    {
      "cell_type": "code",
      "source": [
        "#defining and using a function\n",
        "def greet(name):\n",
        "  return \"hello,\" + name + \"!\"\n",
        "\n",
        "my_name = input(\"ENTER YOUR NAME:\")\n",
        "greet(my_name)\n"
      ],
      "metadata": {
        "colab": {
          "base_uri": "https://localhost:8080/",
          "height": 54
        },
        "id": "427UaUMG7f4A",
        "outputId": "65a616ef-123d-4df6-c496-f59568d713d6"
      },
      "execution_count": 10,
      "outputs": [
        {
          "name": "stdout",
          "output_type": "stream",
          "text": [
            "ENTER YOUR NAME:ahmad\n"
          ]
        },
        {
          "output_type": "execute_result",
          "data": {
            "text/plain": [
              "'hello,ahmad!'"
            ],
            "application/vnd.google.colaboratory.intrinsic+json": {
              "type": "string"
            }
          },
          "metadata": {},
          "execution_count": 10
        }
      ]
    },
    {
      "cell_type": "code",
      "source": [
        "def add_numbers(a,b):\n",
        "  return a+b\n",
        "\n",
        "a = int(input(\"ENTER FIRST NUMBER:\"))\n",
        "b = int(input(\"ENTER SECOND NUMBER:\"))\n",
        "addition_value=add_numbers(a,b)\n",
        "print(f\"the result of addition for {a} , {b} is {addition_value}\")"
      ],
      "metadata": {
        "colab": {
          "base_uri": "https://localhost:8080/"
        },
        "id": "BWKE3t-sBOQ_",
        "outputId": "1643dd46-f13b-4e0a-9465-aff1edc47eda"
      },
      "execution_count": 13,
      "outputs": [
        {
          "output_type": "stream",
          "name": "stdout",
          "text": [
            "ENTER FIRST NUMBER:5\n",
            "ENTER SECOND NUMBER:10\n",
            "the result of addition for 5 , 10 is 15\n"
          ]
        }
      ]
    },
    {
      "cell_type": "code",
      "source": [
        "def add_numbers(a,b):\n",
        "  return a+b\n",
        "\n",
        "a = eval(input(\"ENTER FIRST NUMBER:\"))\n",
        "b = eval(input(\"ENTER SECOND NUMBER:\"))\n",
        "addition_value=add_numbers(a,b)\n",
        "print(f\"the result of addition for {a} , {b} is {addition_value}\")"
      ],
      "metadata": {
        "colab": {
          "base_uri": "https://localhost:8080/"
        },
        "id": "RuJwLSytEIWA",
        "outputId": "e68c3c1c-91b7-48c0-a23f-21500f2dd480"
      },
      "execution_count": 15,
      "outputs": [
        {
          "output_type": "stream",
          "name": "stdout",
          "text": [
            "ENTER FIRST NUMBER:5.26\n",
            "ENTER SECOND NUMBER:7.69\n",
            "the result of addition for 5.26 , 7.69 is 12.95\n"
          ]
        }
      ]
    },
    {
      "cell_type": "code",
      "source": [
        "#working with strings\n",
        "message = \"hello, world\"\n",
        "length = len(message)\n",
        "uppercase = message.upper()\n",
        "lowercase = message.lower()\n",
        "substring_1 = message[0:5]\n",
        "substring_2 = message[7:12]\n",
        "print(\"original message:\" , message )\n",
        "print(\"the length is:\" , length)\n",
        "print(\"upper case:\" , uppercase)\n",
        "print(\"lowercase:\" , lowercase)\n",
        "print(\"part of the message is:\" ,substring_1 )\n",
        "print(\"part of the message is:\" ,substring_2 )\n",
        "\n",
        "\n",
        "\n",
        "\n",
        "\n"
      ],
      "metadata": {
        "colab": {
          "base_uri": "https://localhost:8080/"
        },
        "id": "txWUFTB0ERn3",
        "outputId": "57c308e6-b0a7-477f-ef17-ea039de8c653"
      },
      "execution_count": 23,
      "outputs": [
        {
          "output_type": "stream",
          "name": "stdout",
          "text": [
            "original message: hello, world\n",
            "the length is: 12\n",
            "upper case: HELLO, WORLD\n",
            "lowercase: hello, world\n",
            "part of the message is: hello\n",
            "part of the message is: world\n"
          ]
        }
      ]
    },
    {
      "cell_type": "code",
      "source": [
        "#basic input example\n",
        "first = input(\"ENTER THE FIRST NAME , first name:\")\n",
        "last = input(\"ENTER THE last NAME , last name:\")\n",
        "print(f\"{first} , {last}\")\n",
        "print(\">>>\"f\"{first} {last}\")"
      ],
      "metadata": {
        "colab": {
          "base_uri": "https://localhost:8080/"
        },
        "id": "bE8dIevOInj1",
        "outputId": "2cbb58d2-5ff0-4dab-a83f-8bf0a559c5fc"
      },
      "execution_count": 25,
      "outputs": [
        {
          "output_type": "stream",
          "name": "stdout",
          "text": [
            "ENTER THE FIRST NAME , first name:ahmad\n",
            "ENTER THE last NAME , last name:shawawreh\n",
            "ahmad , shawawreh\n",
            ">>>ahmad shawawreh\n"
          ]
        }
      ]
    },
    {
      "cell_type": "code",
      "source": [
        "#numeric input example\n",
        "age = int(input(\"ENTER YOUR AGE:\"))\n",
        "print(\"you will be\" , age+1 , \"years old next year.\")"
      ],
      "metadata": {
        "colab": {
          "base_uri": "https://localhost:8080/"
        },
        "id": "g4Q83E0TK9PB",
        "outputId": "8aeed153-7763-4984-d87f-468cfac5ee85"
      },
      "execution_count": 26,
      "outputs": [
        {
          "output_type": "stream",
          "name": "stdout",
          "text": [
            "ENTER YOUR AGE:21\n",
            "you will be 22 years old next year.\n"
          ]
        }
      ]
    },
    {
      "cell_type": "code",
      "source": [
        "#calculation with input\n",
        "\n",
        "num1 = float(input(\"ENTER A NUMBER\"))\n",
        "num2 = float(input(\"ENTER ANOTHER NUMBER\"))\n",
        "sum_result = num1+num2\n",
        "print(\"sum:\" , sum_result)"
      ],
      "metadata": {
        "colab": {
          "base_uri": "https://localhost:8080/"
        },
        "id": "m3BM_N1-RsjW",
        "outputId": "9d6aa17c-8024-41fb-b5c5-14dab3d4171a"
      },
      "execution_count": 27,
      "outputs": [
        {
          "output_type": "stream",
          "name": "stdout",
          "text": [
            "ENTER A NUMBER10\n",
            "ENTER ANOTHER NUMBER15\n",
            "sum: 25.0\n"
          ]
        }
      ]
    },
    {
      "cell_type": "code",
      "source": [
        "#string concatenation with input\n",
        "city = input(\"ENTER YOUR CITY:\")\n",
        "country = input(\"ENTER YOUR COUNTRY:\")\n",
        "location = city + \",\" + country\n",
        "print(\"you are in:\", location)"
      ],
      "metadata": {
        "colab": {
          "base_uri": "https://localhost:8080/"
        },
        "id": "AjUt7fCiSonH",
        "outputId": "9750f438-b6ee-414a-9cef-e2ffd657e018"
      },
      "execution_count": 31,
      "outputs": [
        {
          "output_type": "stream",
          "name": "stdout",
          "text": [
            "ENTER YOUR CITY:aqaba\n",
            "ENTER YOUR COUNTRY:Jordan\n",
            "you are in: aqaba,Jordan\n"
          ]
        }
      ]
    },
    {
      "cell_type": "code",
      "source": [
        "#multiple inputs\n",
        "name , age = input(\"ENTER YOUR NAME AND AGE SPERATED BY SPACE:\").split()\n",
        "print(f\"my name is {name} and my age is {age}\")"
      ],
      "metadata": {
        "colab": {
          "base_uri": "https://localhost:8080/"
        },
        "id": "pLrP2dnoTn9m",
        "outputId": "7bdf0c99-e90f-4fe7-8dbb-e7cfb8a19c07"
      },
      "execution_count": 32,
      "outputs": [
        {
          "output_type": "stream",
          "name": "stdout",
          "text": [
            "ENTER YOUR NAME AND AGE SPERATED BY SPACE:ahmad 21\n",
            "my name is ahmad and my age is 21\n"
          ]
        }
      ]
    }
  ]
}
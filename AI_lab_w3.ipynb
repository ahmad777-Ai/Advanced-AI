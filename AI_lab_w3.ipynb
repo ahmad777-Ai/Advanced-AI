{
  "cells": [
    {
      "cell_type": "markdown",
      "metadata": {
        "id": "view-in-github",
        "colab_type": "text"
      },
      "source": [
        "<a href=\"https://colab.research.google.com/github/ahmad777-Ai/Advanced-AI/blob/main/AI_lab_w3.ipynb\" target=\"_parent\"><img src=\"https://colab.research.google.com/assets/colab-badge.svg\" alt=\"Open In Colab\"/></a>"
      ]
    },
    {
      "cell_type": "code",
      "source": [
        "age = int(input(\"enter your age: \"))\n",
        "\n",
        "if age < 18:\n",
        "  print(\"you are minor \")\n",
        "elif age ==18:\n",
        "  print(\"you are just an adult now \")\n",
        "else:\n",
        "  print(\"you are already an adult\")\n"
      ],
      "metadata": {
        "id": "-PZ7Z0rjRZmI",
        "outputId": "e2cc4bf7-62e0-4677-d13b-dfa9ed38ab85",
        "colab": {
          "base_uri": "https://localhost:8080/"
        }
      },
      "execution_count": null,
      "outputs": [
        {
          "output_type": "stream",
          "name": "stdout",
          "text": [
            "enter your age: 20\n",
            "you are already an adult\n"
          ]
        }
      ]
    },
    {
      "cell_type": "code",
      "source": [
        "score = eval(input(\"enter your score: \"))\n",
        "if score >= 90:\n",
        "  print(\"your grade is A\")\n",
        "elif score >= 80:\n",
        "  print(\"your grade is B\")\n",
        "elif score >= 70:\n",
        "  print(\"your grade is C\")\n",
        "elif score >= 60:\n",
        "  print(\"your grade is D\")\n",
        "else:\n",
        "  print(\"your grade is F\")\n"
      ],
      "metadata": {
        "id": "z5GkWiEzTwIH",
        "outputId": "26e91bdf-31de-4b72-d905-aff03d169bba",
        "colab": {
          "base_uri": "https://localhost:8080/"
        }
      },
      "execution_count": null,
      "outputs": [
        {
          "output_type": "stream",
          "name": "stdout",
          "text": [
            "enter your score: 95\n",
            "your grade is A\n"
          ]
        }
      ]
    },
    {
      "cell_type": "code",
      "source": [
        "fruits = [\"apple\", \"banana\", \"cherry\"]\n",
        "for index in fruits:\n",
        "  print(\"I like \" , index)"
      ],
      "metadata": {
        "id": "Z9D24zO8Unxb",
        "outputId": "5a4c2dc4-75e2-42e7-bc35-f71e65057a51",
        "colab": {
          "base_uri": "https://localhost:8080/"
        }
      },
      "execution_count": null,
      "outputs": [
        {
          "output_type": "stream",
          "name": "stdout",
          "text": [
            "I like  apple\n",
            "I like  banana\n",
            "I like  cherry\n"
          ]
        }
      ]
    },
    {
      "cell_type": "code",
      "source": [
        "numbers= [ 5, 10, 15, 20, 25]\n",
        "sum =0\n",
        "for index in numbers:\n",
        "  sum += index\n",
        "print(\"the sum is \" , sum)\n"
      ],
      "metadata": {
        "id": "dKE348ajU8GQ",
        "outputId": "46486bfb-ff05-46ab-e4a6-4ee757755318",
        "colab": {
          "base_uri": "https://localhost:8080/"
        }
      },
      "execution_count": null,
      "outputs": [
        {
          "output_type": "stream",
          "name": "stdout",
          "text": [
            "the sum is  75\n"
          ]
        }
      ]
    },
    {
      "cell_type": "code",
      "source": [
        "count = 5\n",
        "while count > 0:\n",
        "  print(count)\n",
        "  count -= 1"
      ],
      "metadata": {
        "id": "UJy--GRnVbyC",
        "outputId": "a2938e7a-a4bd-470c-bf46-7556bf625e1d",
        "colab": {
          "base_uri": "https://localhost:8080/"
        }
      },
      "execution_count": null,
      "outputs": [
        {
          "output_type": "stream",
          "name": "stdout",
          "text": [
            "5\n",
            "4\n",
            "3\n",
            "2\n",
            "1\n"
          ]
        }
      ]
    },
    {
      "cell_type": "code",
      "source": [
        "while True:\n",
        "  print(\"menu\")\n",
        "  print(\"1.option 1\")\n",
        "  print(\"2.option 2\")\n",
        "  print(\"3.option 3\")\n",
        "  print(\"4.quit\")\n",
        "\n",
        "  choice = input(\"enter your choice: \")\n",
        "\n",
        "  if choice == \"1\":\n",
        "    print(\"you chose option 1\")\n",
        "  elif choice == \"2\":\n",
        "    print(\"you chose option 2\")\n",
        "  elif choice == \"3\":\n",
        "    print(\"you chose option 3\")\n",
        "  elif choice == \"4\":\n",
        "    print(\"good bye!\")\n",
        "    break\n",
        "  else:\n",
        "    print(\"invalid choice\")\n",
        "\n"
      ],
      "metadata": {
        "id": "DvN-91EKVsiY",
        "outputId": "7abc5025-f83f-424e-e749-9e8f1a61feef",
        "colab": {
          "base_uri": "https://localhost:8080/"
        }
      },
      "execution_count": null,
      "outputs": [
        {
          "output_type": "stream",
          "name": "stdout",
          "text": [
            "menu\n",
            "1.option 1\n",
            "2.option 2\n",
            "3.option 3\n",
            "4.quit\n",
            "enter your choice: 4\n",
            "good bye!\n"
          ]
        }
      ]
    },
    {
      "cell_type": "code",
      "source": [
        "import time\n",
        "countdown = 5\n",
        "while countdown > 0:\n",
        "  print(countdown)\n",
        "  time.sleep(1)\n",
        "  countdown -= 1\n",
        "print(\" time up\")"
      ],
      "metadata": {
        "id": "VlbbjAFUWpRX",
        "outputId": "e356e9f1-4e0b-4aea-d990-51a8cd8bad02",
        "colab": {
          "base_uri": "https://localhost:8080/"
        }
      },
      "execution_count": 4,
      "outputs": [
        {
          "output_type": "stream",
          "name": "stdout",
          "text": [
            "5\n",
            "4\n",
            "3\n",
            "2\n",
            "1\n",
            " time up\n"
          ]
        }
      ]
    },
    {
      "cell_type": "code",
      "source": [
        "colors = [\"red\" , \"blue\" , \"yellow\"]\n",
        "print(\"the colors are:\", colors)\n",
        "colors.append(\"green\")\n",
        "print(\"colors\" , colors)\n"
      ],
      "metadata": {
        "id": "YKhpOElMXDaz",
        "outputId": "7cd21bbd-a06f-44dd-c327-3f2e94e003aa",
        "colab": {
          "base_uri": "https://localhost:8080/"
        }
      },
      "execution_count": null,
      "outputs": [
        {
          "output_type": "stream",
          "name": "stdout",
          "text": [
            "the colors are: ['red', 'blue', 'yellow']\n",
            "colors ['red', 'blue', 'yellow', 'green']\n"
          ]
        }
      ]
    },
    {
      "cell_type": "code",
      "source": [
        "todo_list=[]\n",
        "print (\"welcome to a to-do list\")\n",
        "\n",
        "while True:\n",
        "  print(\"options\")\n",
        "  print(\"1.add a task\")\n",
        "  print(\"2.view tasks\")\n",
        "  print(\"3.quit\")\n",
        "\n",
        "  choice = input(\"enter your choice: \")\n",
        "\n",
        "if choice == \"1\":\n",
        "    task = input(\"enter a task: \")\n",
        "    todo_list.append(task)\n",
        "    print(\"task added\")\n",
        "elif choice == \"2\":\n",
        "    if not todo_list:\n",
        "     print(\"no tasks in the list\")\n",
        "else:\n",
        "  print(\"tasks:\")\n",
        "  for index, task in enumerate(todo_list, start=1):\n",
        "    print(f\"{index}.{task}\")\n",
        "if choice == \"3\":\n",
        "  print(\"good bye\")"
      ],
      "metadata": {
        "colab": {
          "base_uri": "https://localhost:8080/"
        },
        "id": "_6zLJvL4cGNw",
        "outputId": "22a6e702-13bf-4075-abb2-cc2443a1cbcf"
      },
      "execution_count": null,
      "outputs": [
        {
          "output_type": "stream",
          "name": "stdout",
          "text": [
            "welcome to a to-do list\n",
            "options\n",
            "1.add a task\n",
            "2.view tasks\n",
            "3.quit\n",
            "enter your choice: 3\n",
            "options\n",
            "1.add a task\n",
            "2.view tasks\n",
            "3.quit\n",
            "enter your choice: 3\n",
            "options\n",
            "1.add a task\n",
            "2.view tasks\n",
            "3.quit\n",
            "enter your choice: 2\n",
            "options\n",
            "1.add a task\n",
            "2.view tasks\n",
            "3.quit\n",
            "enter your choice: 1\n",
            "options\n",
            "1.add a task\n",
            "2.view tasks\n",
            "3.quit\n",
            "enter your choice: 9\n",
            "options\n",
            "1.add a task\n",
            "2.view tasks\n",
            "3.quit\n",
            "enter your choice: 85\n",
            "options\n",
            "1.add a task\n",
            "2.view tasks\n",
            "3.quit\n"
          ]
        }
      ]
    },
    {
      "cell_type": "code",
      "source": [
        "Person_info = (\"alice\" , 30)\n",
        "print(\"person's information:\")\n",
        "print(\"name:\", Person_info[0])\n",
        "print(\"age:\", Person_info[1])\n",
        "\n",
        ""
      ],
      "metadata": {
        "id": "izbWJcWfcd-V"
      },
      "execution_count": null,
      "outputs": []
    },
    {
      "cell_type": "code",
      "source": [
        "from _typeshed import SupportsDunderGE\n",
        "student = {\n",
        "  \"name\":\"alice\",\n",
        "  \"age\":20,\n",
        "  \"major\":\"computer science\"\n",
        "}\n",
        "\n",
        "student[\"grade\"] = \"A\"\n",
        "name = student[\"name\"]\n",
        "\n",
        "print(\"student:\" , Student)\n",
        "print(\"students name:\" , name)"
      ],
      "metadata": {
        "id": "iASJzEShdNWR"
      },
      "execution_count": null,
      "outputs": []
    }
  ],
  "metadata": {
    "colab": {
      "toc_visible": true,
      "provenance": [],
      "include_colab_link": true
    },
    "kernelspec": {
      "display_name": "Python 3",
      "name": "python3"
    }
  },
  "nbformat": 4,
  "nbformat_minor": 0
}